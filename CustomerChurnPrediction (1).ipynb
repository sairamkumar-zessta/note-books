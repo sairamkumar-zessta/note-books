{
 "cells": [
  {
   "cell_type": "markdown",
   "metadata": {
    "nbgrader": {
     "grade": false,
     "grade_id": "cell-2b7f953c6d0bf614",
     "locked": true,
     "schema_version": 3,
     "solution": false,
     "task": false
    }
   },
   "source": [
    "<div class = \"alert alert-info\">\n",
    "    \n",
    "### Description of the Dataset\n",
    "    \n",
    "\n",
    "We will use a telecommunications dataset for predicting customer churn. This is a synthetic dataset about a fictional telecom company. \n",
    "  \n",
    "    \n",
    "Each row represents one customer and provides information about their interaction with telecommunication         companies. \n",
    "    \n",
    "#### Sample Table for referece\n",
    "\n",
    "| Tenure | Age | Address | Income | ed | employ | equip | Call Card | Wireless | Pager | internet | confer | Churn |\n",
    "|:---------|:-------------|:--------------|:--------------|:---------|:-------------|:--------------|:--------------|:---------|:-------------|:--------------|:--------------|:--------------|\n",
    "| 11 | 33 | 7 | 136 | 5 | 6 | 0 | 1 | 1 | 0 | 0 | 1 | 1 |\n",
    "    \n",
    "    \n",
    "\n",
    "    \n",
    "The dataset includes information about:\n",
    "    \n",
    "- Customers who left within the last month, the column is called Churn.\n",
    "- Services that each customer has signed up for: phone, multiple lines, internet, online security, online backup, device protection, tech support, and streaming TV and movies\n",
    "- Customer account information: how long they had been a customer, contract, payment method, paperless billing, monthly charges, and total charges.\n",
    "- Demographic information about customers: gender, age range, and if they have partners and dependents.\n",
    "    \n",
    "      Typically it is less expensive to keep customers than acquire new ones, so the focus of this analysis is to predict the customers who will stay with the company. \n",
    "  \n",
    "      This data set provides information to help us predict the probability of customers leaving and signing  up for another telecommunication company. A careful analysis of relevant customer data will assist in    developing focused customer retention programs.\n",
    "Source: Cognos sample dataset    "
   ]
  },
  {
   "cell_type": "markdown",
   "metadata": {
    "nbgrader": {
     "grade": false,
     "grade_id": "cell-cd4761fabfd535e4",
     "locked": true,
     "schema_version": 3,
     "solution": false,
     "task": false
    }
   },
   "source": [
    "<div class = \"alert alert-success\">\n",
    "    \n",
    "**Goals**\n",
    "    \n",
    "- Based upon demographic and user data, determine how likely it is that the customer will leave the company and sign up for another one. \n",
    "- What are the most significant indicators that predict churn. \n",
    "    \n",
    "Follow up questions\n",
    "    \n",
    "- Perform an improved analysis incorporating clustering based on customer profile and behaviour. \n",
    "- Testing, scoring and evaluating the quality of our predictions. \n",
    "    \n",
    " "
   ]
  },
  {
   "cell_type": "markdown",
   "metadata": {
    "nbgrader": {
     "grade": false,
     "grade_id": "cell-76c3be86232e6d1d",
     "locked": true,
     "schema_version": 3,
     "solution": false,
     "task": false
    }
   },
   "source": [
    "<mark>Please read through the description and the data set carefully and start solving the problem set from here. The data is availabe as a csv file at the location ./data/ChurnData.csv</mark>\n",
    "\n",
    "All the very best! 😀"
   ]
  },
  {
   "cell_type": "markdown",
   "metadata": {
    "nbgrader": {
     "grade": false,
     "grade_id": "cell-6b38685dab9bcc22",
     "locked": true,
     "schema_version": 3,
     "solution": false,
     "task": false
    }
   },
   "source": [
    "<div class = \"alert alert-info\">\n",
    "\n",
    "Import the necessary libraries needed for our analysis. "
   ]
  },
  {
   "cell_type": "code",
   "execution_count": 2,
   "metadata": {
    "nbgrader": {
     "grade": false,
     "grade_id": "cell-222ea3942711b15c",
     "locked": true,
     "schema_version": 3,
     "solution": false,
     "task": false
    }
   },
   "outputs": [],
   "source": [
    "#import "
   ]
  },
  {
   "cell_type": "markdown",
   "metadata": {
    "nbgrader": {
     "grade": false,
     "grade_id": "cell-ceef63eddd031289",
     "locked": true,
     "schema_version": 3,
     "solution": false,
     "task": false
    }
   },
   "source": [
    "<div class = \"alert alert-info\">\n",
    "\n",
    "\n",
    "Read in the dataset into a pandas data frame."
   ]
  },
  {
   "cell_type": "code",
   "execution_count": null,
   "metadata": {
    "nbgrader": {
     "grade": true,
     "grade_id": "cell-83c2da9d69c8868b",
     "locked": false,
     "points": 0,
     "schema_version": 3,
     "solution": true,
     "task": false
    }
   },
   "outputs": [],
   "source": []
  },
  {
   "cell_type": "markdown",
   "metadata": {
    "nbgrader": {
     "grade": false,
     "grade_id": "cell-8457acf620ddbafc",
     "locked": true,
     "schema_version": 3,
     "solution": false,
     "task": false
    }
   },
   "source": [
    "<div class = \"alert alert-info\">\n",
    "\n",
    "\n",
    "**Data Preprocessing and selection**\n",
    "    \n",
    "Take a look at the data - Not all the features are necessary for predicting churn. Decide which features you will be using for your prediction analysis. \n",
    "    \n",
    "Preprocess the data by converting all the features to integers, which is a requirement for most prediction algorithms.\n",
    "    \n",
    "Next, print out a summary of the data. \n"
   ]
  },
  {
   "cell_type": "code",
   "execution_count": null,
   "metadata": {
    "nbgrader": {
     "grade": true,
     "grade_id": "cell-63ad7871035cec47",
     "locked": false,
     "points": 0,
     "schema_version": 3,
     "solution": true,
     "task": false
    }
   },
   "outputs": [],
   "source": []
  },
  {
   "cell_type": "markdown",
   "metadata": {
    "nbgrader": {
     "grade": false,
     "grade_id": "cell-8f0f4c3934b1611c",
     "locked": true,
     "schema_version": 3,
     "solution": false,
     "task": false
    }
   },
   "source": [
    "<div class = \"alert alert-info\">\n",
    "\n",
    "\n",
    "**Model Selection**\n",
    "\n",
    "This problem naturally calls for logistic regression as a first approach towards prediction. Describe how this works and set up a basic model. "
   ]
  },
  {
   "cell_type": "code",
   "execution_count": null,
   "metadata": {
    "nbgrader": {
     "grade": true,
     "grade_id": "cell-713cbb9c99c18862",
     "locked": false,
     "points": 0,
     "schema_version": 3,
     "solution": true,
     "task": false
    }
   },
   "outputs": [],
   "source": []
  },
  {
   "cell_type": "markdown",
   "metadata": {
    "nbgrader": {
     "grade": false,
     "grade_id": "cell-641235d4ebaa7745",
     "locked": true,
     "schema_version": 3,
     "solution": false,
     "task": false
    }
   },
   "source": [
    "<div class = \"alert alert-info\">\n",
    "\n",
    "\n",
    "**Normalize the dataset.**"
   ]
  },
  {
   "cell_type": "code",
   "execution_count": null,
   "metadata": {
    "nbgrader": {
     "grade": true,
     "grade_id": "cell-baaf48a96d5721be",
     "locked": false,
     "points": 0,
     "schema_version": 3,
     "solution": true,
     "task": false
    }
   },
   "outputs": [],
   "source": []
  },
  {
   "cell_type": "markdown",
   "metadata": {
    "nbgrader": {
     "grade": false,
     "grade_id": "cell-1de2e18d00d05bd9",
     "locked": true,
     "schema_version": 3,
     "solution": false,
     "task": false
    }
   },
   "source": [
    "<div class = \"alert alert-info\">\n",
    "\n",
    "\n",
    "**Perform a Train-Test Split.** \n",
    "    \n",
    "A basic rule of thumb is that we train the model on 80% of the data and use the remainder to evaluate the performance of the model. "
   ]
  },
  {
   "cell_type": "code",
   "execution_count": null,
   "metadata": {
    "nbgrader": {
     "grade": true,
     "grade_id": "cell-6d61bc2dff79d9bf",
     "locked": false,
     "points": 0,
     "schema_version": 3,
     "solution": true,
     "task": false
    }
   },
   "outputs": [],
   "source": []
  },
  {
   "cell_type": "markdown",
   "metadata": {
    "nbgrader": {
     "grade": false,
     "grade_id": "cell-f1be386c57b908cf",
     "locked": true,
     "schema_version": 3,
     "solution": false,
     "task": false
    }
   },
   "source": [
    "<div class = \"alert alert-info\">\n",
    "\n",
    "\n",
    "**Modeling**\n",
    "    \n",
    "* Build your model using Logistic Regression from the Scikitlearn package. This function implements logistic regression and can use different numerical optimizers to find parameters, including newton-cg, lbfgs, liblinear, sag, saga solvers.\n",
    "* The version of Logistic Regression in Scikitlearn, supports regularization. \n",
    "* Recall that regularization is a technique used to solve the overfitting problem in machine learning models. \n",
    "* The model takes in a hyperparameter, the C parameter that indicates inverse of regularization strength which must be a positive float. Smaller values specify stronger regularization. "
   ]
  },
  {
   "cell_type": "code",
   "execution_count": null,
   "metadata": {
    "nbgrader": {
     "grade": true,
     "grade_id": "cell-4c9cbda895ac00a6",
     "locked": false,
     "points": 0,
     "schema_version": 3,
     "solution": true,
     "task": false
    }
   },
   "outputs": [],
   "source": []
  },
  {
   "cell_type": "markdown",
   "metadata": {
    "nbgrader": {
     "grade": false,
     "grade_id": "cell-6f8647bbbcd5f6fc",
     "locked": true,
     "schema_version": 3,
     "solution": false,
     "task": false
    }
   },
   "source": [
    "<div class = \"alert alert-info\">\n",
    "\n",
    "\n",
    "Print out the model parameters for the fitted model. Recall that the fitted model is of the form \n",
    "\n",
    "   $$\\operatorname{ln}\\left(\\dfrac{ p}{ 1-p}\\right) = b_0 + \\sum_{i = 1}^{k} b_i x_i$$\n",
    "    where $x_1, \\ldots, x_k$ are the predictor variables (there are six of them here, leading to seven parameters in all). "
   ]
  },
  {
   "cell_type": "code",
   "execution_count": null,
   "metadata": {
    "nbgrader": {
     "grade": true,
     "grade_id": "cell-d7428df00e0390c9",
     "locked": false,
     "points": 0,
     "schema_version": 3,
     "solution": true,
     "task": false
    }
   },
   "outputs": [],
   "source": []
  },
  {
   "cell_type": "markdown",
   "metadata": {
    "nbgrader": {
     "grade": false,
     "grade_id": "cell-378d5f23a8586329",
     "locked": true,
     "schema_version": 3,
     "solution": false,
     "task": false
    }
   },
   "source": [
    "<div class = \"alert alert-info\">\n",
    "\n",
    "**Prediction**\n",
    "    \n",
    "Use your Model to Predict the Churn for the test data. "
   ]
  },
  {
   "cell_type": "code",
   "execution_count": null,
   "metadata": {
    "nbgrader": {
     "grade": true,
     "grade_id": "cell-7808599cd46e2ab6",
     "locked": false,
     "points": 0,
     "schema_version": 3,
     "solution": true,
     "task": false
    }
   },
   "outputs": [],
   "source": []
  },
  {
   "cell_type": "markdown",
   "metadata": {
    "nbgrader": {
     "grade": false,
     "grade_id": "cell-b00af9a185ca7f2c",
     "locked": true,
     "schema_version": 3,
     "solution": false,
     "task": false
    }
   },
   "source": [
    "<div class = \"alert alert-info\">\n",
    "\n",
    "**Detailed Prediction**\n",
    "    \n",
    "Print out not just the prediction but also the prediction probabilities. Recall that each test sample upon running this model is given a pair of probabilities, which indicate the probability of it belonging to each class. The class the model predicts for the data is obtained by rounding these prediction probabilities. \n",
    "    \n"
   ]
  },
  {
   "cell_type": "code",
   "execution_count": null,
   "metadata": {
    "nbgrader": {
     "grade": true,
     "grade_id": "cell-8dc63023c2963051",
     "locked": false,
     "points": 0,
     "schema_version": 3,
     "solution": true,
     "task": false
    }
   },
   "outputs": [],
   "source": []
  },
  {
   "cell_type": "markdown",
   "metadata": {
    "nbgrader": {
     "grade": false,
     "grade_id": "cell-47142a8cf37e5125",
     "locked": true,
     "schema_version": 3,
     "solution": false,
     "task": false
    }
   },
   "source": [
    "<div class = \"alert alert-info\">\n",
    "\n",
    "**Prediction Accuracy** \n",
    "    \n",
    "The standard method of looking at the accuracy of the prediction is by looking at the confusion matrix. Write a helper function in order to plot the confusion matrix."
   ]
  },
  {
   "cell_type": "code",
   "execution_count": null,
   "metadata": {
    "nbgrader": {
     "grade": true,
     "grade_id": "cell-80e8f02eb5c10c70",
     "locked": false,
     "points": 0,
     "schema_version": 3,
     "solution": true,
     "task": false
    }
   },
   "outputs": [],
   "source": []
  },
  {
   "cell_type": "markdown",
   "metadata": {
    "nbgrader": {
     "grade": false,
     "grade_id": "cell-e82a0432d7d8c49d",
     "locked": true,
     "schema_version": 3,
     "solution": false,
     "task": false
    }
   },
   "source": [
    "<div class = \"alert alert-info\">\n",
    "\n",
    "**Accuracy Visualization** \n",
    "    \n",
    "Print out the confusion matrix and visualize it. "
   ]
  },
  {
   "cell_type": "code",
   "execution_count": null,
   "metadata": {
    "nbgrader": {
     "grade": true,
     "grade_id": "cell-f21d504266ed04d0",
     "locked": false,
     "points": 0,
     "schema_version": 3,
     "solution": true,
     "task": false
    }
   },
   "outputs": [],
   "source": []
  },
  {
   "cell_type": "markdown",
   "metadata": {
    "nbgrader": {
     "grade": false,
     "grade_id": "cell-19ed9ab13be8edb4",
     "locked": true,
     "schema_version": 3,
     "solution": false,
     "task": false
    }
   },
   "source": [
    "<div class = \"alert alert-info\">\n",
    "\n",
    "\n",
    "**Precision and Recall** \n",
    "    \n",
    "* Precision is the ability of the classifier not to label as positive a sample that is negative, and recall is the ability of the classifier to find all the positive samples.\n",
    "* The F-measure can be interpreted as a weighted harmonic mean of the precision and recall. A measure reaches its best value at 1 and its worst score at 0.\n",
    "* Print out the prediction and recall for each class. "
   ]
  },
  {
   "cell_type": "code",
   "execution_count": null,
   "metadata": {
    "nbgrader": {
     "grade": true,
     "grade_id": "cell-e7b4fcebdc3d647f",
     "locked": false,
     "points": 0,
     "schema_version": 3,
     "solution": true,
     "task": false
    }
   },
   "outputs": [],
   "source": []
  },
  {
   "cell_type": "markdown",
   "metadata": {
    "nbgrader": {
     "grade": false,
     "grade_id": "cell-75332a86a4aadc22",
     "locked": true,
     "schema_version": 3,
     "solution": false,
     "task": false
    }
   },
   "source": [
    "<div class = \"alert alert-info\">\n",
    "\n",
    "\n",
    "**Using the log loss for accuracy evaluation**\n",
    "\n",
    "Log Loss: In logistic regression, the output is the probability of customer churn. This probability is a value between 0 and 1. Log loss(Logarithmic loss) measures the performance of a classifier where the predicted output is a probability value between 0 and 1. A perfect prediction will have a log loss of 0. Print out these values. "
   ]
  },
  {
   "cell_type": "code",
   "execution_count": null,
   "metadata": {
    "nbgrader": {
     "grade": true,
     "grade_id": "cell-189776862271c450",
     "locked": false,
     "points": 0,
     "schema_version": 3,
     "solution": true,
     "task": false
    }
   },
   "outputs": [],
   "source": []
  },
  {
   "cell_type": "markdown",
   "metadata": {},
   "source": [
    "<div class = \"alert alert-info\">\n",
    "\n",
    "\n",
    "**Analysis**\n",
    "    \n",
    "1. Is logistic regression helpful in this setting?\n",
    "2. Are the results useful?\n",
    "3. Are they interpretable?\n",
    "4. How do you think you can improve the prediction model? Does tuning the hyperparameters help?\n",
    "5. For this particular data set, how effective do you think a logistic regression model can be?\n"
   ]
  },
  {
   "cell_type": "code",
   "execution_count": null,
   "metadata": {
    "nbgrader": {
     "grade": true,
     "grade_id": "cell-9f3a37cc9ef98ce5",
     "locked": false,
     "points": 0,
     "schema_version": 3,
     "solution": true,
     "task": false
    }
   },
   "outputs": [],
   "source": []
  }
 ],
 "metadata": {
  "celltoolbar": "Create Assignment",
  "kernelspec": {
   "display_name": "Python 3",
   "language": "python",
   "name": "python3"
  },
  "language_info": {
   "codemirror_mode": {
    "name": "ipython",
    "version": 3
   },
   "file_extension": ".py",
   "mimetype": "text/x-python",
   "name": "python",
   "nbconvert_exporter": "python",
   "pygments_lexer": "ipython3",
   "version": "3.7.4"
  }
 },
 "nbformat": 4,
 "nbformat_minor": 4
}
